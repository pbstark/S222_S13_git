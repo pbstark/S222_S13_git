{
 "metadata": {
  "name": "DiGraph-Comedy"
 },
 "nbformat": 3,
 "nbformat_minor": 0,
 "worksheets": [
  {
   "cells": [
    {
     "cell_type": "code",
     "collapsed": false,
     "input": [
      "import pickle\n",
      "import networkx as nx\n",
      "import matplotlib.pyplot as plt\n",
      "matrix_comdy = open('matrix.pickle','r')\n",
      "object_comdy = pickle.load(matrix_comdy)\n",
      "\n"
     ],
     "language": "python",
     "metadata": {},
     "outputs": [],
     "prompt_number": 1
    },
    {
     "cell_type": "code",
     "collapsed": false,
     "input": [
      "object_comdy"
     ],
     "language": "python",
     "metadata": {},
     "outputs": [
      {
       "output_type": "pyout",
       "prompt_number": 2,
       "text": [
        "<18474x18474 sparse matrix of type '<type 'numpy.float64'>'\n",
        "\twith 358978 stored elements in LInked List format>"
       ]
      }
     ],
     "prompt_number": 2
    },
    {
     "cell_type": "code",
     "collapsed": false,
     "input": [
      "B = list()\n",
      "for i in range(100):\n",
      "    for j in range(100):\n",
      "        if object_comdy[i,j]>0:\n",
      "            B.append([i,j,object_comdy[i,j]])\n",
      "B\n"
     ],
     "language": "python",
     "metadata": {},
     "outputs": [
      {
       "output_type": "pyout",
       "prompt_number": 9,
       "text": [
        "[[9, 11, 1.0],\n",
        " [13, 22, 1.0],\n",
        " [21, 39, 3.0],\n",
        " [21, 40, 6.0],\n",
        " [21, 42, 3.0],\n",
        " [21, 48, 3.0],\n",
        " [39, 21, 3.0],\n",
        " [39, 40, 2.0],\n",
        " [39, 48, 1.0],\n",
        " [40, 21, 1.0],\n",
        " [40, 42, 1.0],\n",
        " [48, 21, 1.0],\n",
        " [48, 42, 1.0],\n",
        " [54, 60, 1.0],\n",
        " [55, 74, 1.0],\n",
        " [57, 40, 1.0],\n",
        " [85, 39, 1.0]]"
       ]
      }
     ],
     "prompt_number": 9
    },
    {
     "cell_type": "code",
     "collapsed": false,
     "input": [
      "%pylab inline\n",
      "DG=nx.DiGraph()\n",
      "DG.add_weighted_edges_from(B)\n",
      "nx.draw(DG)\n",
      "plt.show()"
     ],
     "language": "python",
     "metadata": {},
     "outputs": [
      {
       "output_type": "stream",
       "stream": "stdout",
       "text": [
        "\n",
        "Welcome to pylab, a matplotlib-based Python environment [backend: module://IPython.zmq.pylab.backend_inline].\n",
        "For more information, type 'help(pylab)'.\n"
       ]
      }
     ],
     "prompt_number": 10
    },
    {
     "cell_type": "code",
     "collapsed": false,
     "input": [
      "%pylab inline\n",
      "import scipy.sparse\n",
      "DG=nx.from_scipy_sparse_matrix(object_comdy[0:200,0:200], create_using=nx.DiGraph())\n",
      "nx.draw(DG)\n",
      "plt.show()"
     ],
     "language": "python",
     "metadata": {},
     "outputs": [
      {
       "output_type": "stream",
       "stream": "stdout",
       "text": [
        "\n",
        "Welcome to pylab, a matplotlib-based Python environment [backend: module://IPython.zmq.pylab.backend_inline].\n",
        "For more information, type 'help(pylab)'.\n"
       ]
      }
     ],
     "prompt_number": 3
    },
    {
     "cell_type": "code",
     "collapsed": false,
     "input": [],
     "language": "python",
     "metadata": {},
     "outputs": []
    }
   ],
   "metadata": {}
  }
 ]
}